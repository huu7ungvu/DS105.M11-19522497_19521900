{
 "cells": [
  {
   "cell_type": "code",
   "execution_count": 68,
   "metadata": {},
   "outputs": [
    {
     "name": "stderr",
     "output_type": "stream",
     "text": [
      "C:\\Users\\Admin\\AppData\\Local\\Temp/ipykernel_12868/2468422413.py:16: FutureWarning: Passing a negative integer is deprecated in version 1.0 and will not be supported in future version. Instead, use None to not limit the column width.\n",
      "  pd.set_option('display.max_colwidth', -1)\n"
     ]
    }
   ],
   "source": [
    "from IPython.core.interactiveshell import InteractiveShell\n",
    "InteractiveShell.ast_node_interactivity = \"all\" \n",
    "import pandas as pd\n",
    "import numpy as np\n",
    "import datetime as dt\n",
    "import seaborn as sns\n",
    "import statistics as stt\n",
    "import matplotlib.pyplot as plt\n",
    "import plotly.express as px\n",
    "from plotly.subplots import make_subplots\n",
    "import plotly.graph_objects as go\n",
    "import re\n",
    "pd.set_option('display.max_rows', None)\n",
    "pd.set_option('display.max_columns', None)\n",
    "pd.set_option('display.width', None)\n",
    "pd.set_option('display.max_colwidth', -1)\n",
    "pd.options.display.max_rows"
   ]
  },
  {
   "cell_type": "markdown",
   "metadata": {},
   "source": [
    "# Load các dữ liệu\n"
   ]
  },
  {
   "cell_type": "markdown",
   "metadata": {},
   "source": [
    "## Dữ liệu đến từ world bank\n"
   ]
  },
  {
   "cell_type": "code",
   "execution_count": 35,
   "metadata": {},
   "outputs": [],
   "source": [
    "data_wb=pd.read_csv(r'T:\\FilesHocTap\\DS105_final_project\\DS105.M11\\all new\\data_new\\Data_Extract_From_World_Development_Indicators\\9b695685-3a98-4ae9-adc6-5b9faab37553_Data.csv')\n",
    "\n",
    "data_wb_add=pd.read_csv(r'T:\\FilesHocTap\\DS105_final_project\\DS105.M11\\all new\\data_new\\Data_Extract_From_World_Development_Indicators\\bd8e3f86-4eaf-44ce-a392-dd3157c17a14_Data.csv')\n",
    "\n",
    "data_wb_add_2=pd.read_csv(r'T:\\FilesHocTap\\DS105_final_project\\DS105.M11\\all new\\data_new\\Data_Extract_From_World_Development_Indicators\\ff202573-5f12-4356-9333-01f7c294732f_Data.csv')\n",
    "\n",
    "data_wb_add_region=pd.read_csv(r'T:\\FilesHocTap\\DS105_final_project\\DS105.M11\\all new\\data_new\\Data_Extract_From_World_Development_Indicators\\9b695685-3a98-4ae9-adc6-5b9faab37553_Country - Metadata.csv')"
   ]
  },
  {
   "cell_type": "code",
   "execution_count": 36,
   "metadata": {},
   "outputs": [],
   "source": [
    "data_wb_add_region.rename(columns={'Short Name':'Country Name'}, inplace=True)\n",
    "\n",
    "data_wb_add_region=data_wb_add_region[['Country Name','Region']]\n",
    "\n",
    "data_wb_add_region['Country Name'].replace(['The Bahamas','Brunei','Dem. Rep. Congo','Congo','Côte d\\'Ivoire','The Gambia','Iran','Dem. People\\'s Rep. Korea','Korea','Micronesia','Russia','São Tomé and Principe','Venezuela','Virgin Islands','Yemen','Curaçao','Egypt'],\n",
    "['Bahamas, The','Brunei Darussalam','Congo, Dem. Rep.','Congo, Rep.','Cote d\\'Ivoire','Gambia, The','Iran, Islamic Rep.','Korea, Dem. People\\'s Rep.','Korea, Rep.','Micronesia, Fed. Sts.','Russian Federation','Sao Tome and Principe','Venezuela, RB','Virgin Islands (U.S.)','Yemen, Rep.','Curacao','Egypt, Arab Rep.'],inplace=True)"
   ]
  },
  {
   "cell_type": "code",
   "execution_count": 37,
   "metadata": {},
   "outputs": [],
   "source": [
    "data_wb = pd.merge(data_wb,data_wb_add_region, how=\"left\", on=['Country Name'])\n",
    "data_wb = pd.merge(data_wb,data_wb_add, how=\"left\", on=['Country Name','Time'])\n",
    "data_wb = pd.merge(data_wb,data_wb_add_2, how=\"left\", on=['Country Name','Time'])"
   ]
  },
  {
   "cell_type": "markdown",
   "metadata": {},
   "source": [
    "## Dữ liệu đến từ SJR\n"
   ]
  },
  {
   "cell_type": "code",
   "execution_count": 39,
   "metadata": {},
   "outputs": [],
   "source": [
    "arr=[]\n",
    "for i in range(2000,2021):\n",
    "    path=r'T:\\FilesHocTap\\DS105_final_project\\DS105.M11\\all new\\data_new\\SJR data\\scimagojr country rank xxxx.xlsx'\n",
    "    string_=str(i)\n",
    "    path=path.replace('xxxx',string_)\n",
    "    data=pd.read_excel(path)\n",
    "    arr.append(data)"
   ]
  },
  {
   "cell_type": "markdown",
   "metadata": {},
   "source": [
    "## Dữ liệu đến từ UN\n"
   ]
  },
  {
   "cell_type": "code",
   "execution_count": 40,
   "metadata": {},
   "outputs": [],
   "source": [
    "data_un_ei=pd.read_csv(r'T:\\FilesHocTap\\DS105_final_project\\DS105.M11\\all new\\data_new\\UN data\\Education index.csv')"
   ]
  },
  {
   "cell_type": "code",
   "execution_count": 41,
   "metadata": {},
   "outputs": [],
   "source": [
    "data_un_eys=pd.read_csv(r'T:\\FilesHocTap\\DS105_final_project\\DS105.M11\\all new\\data_new\\UN data\\Expected years of schooling (years).csv')"
   ]
  },
  {
   "cell_type": "code",
   "execution_count": 42,
   "metadata": {},
   "outputs": [],
   "source": [
    "data_un_gee=pd.read_csv(r'T:\\FilesHocTap\\DS105_final_project\\DS105.M11\\all new\\data_new\\UN data\\Government expenditure on education (% of GDP).csv')"
   ]
  },
  {
   "cell_type": "code",
   "execution_count": 43,
   "metadata": {},
   "outputs": [],
   "source": [
    "data_un_ger=pd.read_csv(r'T:\\FilesHocTap\\DS105_final_project\\DS105.M11\\all new\\data_new\\UN data\\Gross enrolment ratio, tertiary (% of tertiary school-age population).csv')"
   ]
  },
  {
   "cell_type": "code",
   "execution_count": 44,
   "metadata": {},
   "outputs": [],
   "source": [
    "data_un_mys=pd.read_csv(r'T:\\FilesHocTap\\DS105_final_project\\DS105.M11\\all new\\data_new\\UN data\\Mean years of schooling (years).csv')"
   ]
  },
  {
   "cell_type": "code",
   "execution_count": 45,
   "metadata": {},
   "outputs": [],
   "source": [
    "data_un_hdi=pd.read_csv(r'T:\\FilesHocTap\\DS105_final_project\\DS105.M11\\all new\\data_new\\UN data\\Human Development Index (HDI).csv')"
   ]
  },
  {
   "cell_type": "code",
   "execution_count": 46,
   "metadata": {},
   "outputs": [],
   "source": [
    "data_un_lr=pd.read_csv(r'T:\\FilesHocTap\\DS105_final_project\\DS105.M11\\all new\\data_new\\UN data\\Literacy rate, adult (% ages 15 and older).csv')"
   ]
  },
  {
   "cell_type": "code",
   "execution_count": 47,
   "metadata": {},
   "outputs": [],
   "source": [
    "data_un_lei=pd.read_csv(r'T:\\FilesHocTap\\DS105_final_project\\DS105.M11\\all new\\data_new\\UN data\\Life expectancy index.csv')"
   ]
  },
  {
   "cell_type": "code",
   "execution_count": 48,
   "metadata": {},
   "outputs": [],
   "source": [
    "data_un_leb=pd.read_csv(r'T:\\FilesHocTap\\DS105_final_project\\DS105.M11\\all new\\data_new\\UN data\\Life expectancy at birth (years).csv')"
   ]
  },
  {
   "cell_type": "markdown",
   "metadata": {},
   "source": [
    "# Xử lý các dữ liệu\n"
   ]
  },
  {
   "cell_type": "markdown",
   "metadata": {},
   "source": [
    "## Xử lý các dữ liệu đến từ UN\n"
   ]
  },
  {
   "cell_type": "code",
   "execution_count": 50,
   "metadata": {},
   "outputs": [],
   "source": [
    "def processing_columns(data,name):\n",
    "    list_=['Country']\n",
    "    for i in range(2000,2021):\n",
    "        if str(i) in list(data.columns):\n",
    "            list_.append(str(i))\n",
    "    data=data[list_]\n",
    "    data=pd.melt(data, id_vars=[\"Country\"], \n",
    "                  var_name=\"Time\", value_name=name)\n",
    "    return data"
   ]
  },
  {
   "cell_type": "code",
   "execution_count": 51,
   "metadata": {},
   "outputs": [],
   "source": [
    "names = ['Education Index','Expected Times of schooling (Times)','Government expenditure on education', 'Gross enrolment ratio, tertiary','Mean Times of schooling (Times)','HDI','Literacy rate, adult','Life expectancy index','Life expectancy at birth (Times)']\n",
    "data_un = 0\n",
    "for i in range(0,9):\n",
    "    if (i == 0):\n",
    "        data_un_ei = processing_columns(data_un_ei,names[i])\n",
    "        data_un = data_un_ei\n",
    "        continue\n",
    "    if (i == 1):\n",
    "        data_un_eys = processing_columns(data_un_eys,names[i])\n",
    "        data_un = pd.merge(data_un,data_un_eys, how=\"outer\", on=[\"Country\", \"Time\"])\n",
    "        continue\n",
    "    if (i == 2):\n",
    "        data_un_gee = processing_columns(data_un_gee,names[i])\n",
    "        data_un = pd.merge(data_un,data_un_gee, how=\"outer\", on=[\"Country\", \"Time\"])\n",
    "        continue\n",
    "    if (i == 3):\n",
    "        data_un_ger = processing_columns(data_un_ger,names[i])\n",
    "        data_un = pd.merge(data_un,data_un_ger, how=\"outer\", on=[\"Country\", \"Time\"])\n",
    "        continue\n",
    "    if (i == 4):\n",
    "        data_un_mys = processing_columns(data_un_mys,names[i])\n",
    "        data_un = pd.merge(data_un,data_un_mys, how=\"outer\", on=[\"Country\", \"Time\"])\n",
    "        continue\n",
    "    if (i == 5):\n",
    "        data_un_hdi = processing_columns(data_un_hdi,names[i])\n",
    "        data_un = pd.merge(data_un,data_un_hdi, how=\"outer\", on=[\"Country\", \"Time\"])\n",
    "        continue\n",
    "    if (i == 6):\n",
    "        data_un_lr = processing_columns(data_un_lr,names[i])\n",
    "        data_un = pd.merge(data_un,data_un_lr, how=\"outer\", on=[\"Country\", \"Time\"])\n",
    "        continue\n",
    "    if (i == 7):\n",
    "        data_un_lei = processing_columns(data_un_lei,names[i])\n",
    "        data_un = pd.merge(data_un,data_un_lei, how=\"outer\", on=[\"Country\", \"Time\"])\n",
    "        continue\n",
    "    if (i == 8):\n",
    "        data_un_leb = processing_columns(data_un_leb,names[i])\n",
    "        data_un = pd.merge(data_un,data_un_leb, how=\"outer\", on=[\"Country\", \"Time\"])\n",
    "        continue"
   ]
  },
  {
   "cell_type": "code",
   "execution_count": 52,
   "metadata": {},
   "outputs": [],
   "source": [
    "data_un=data_un.sort_values(by=['Country'])"
   ]
  },
  {
   "cell_type": "code",
   "execution_count": 53,
   "metadata": {},
   "outputs": [],
   "source": [
    "data_un['Country']=data_un['Country'].str.strip()"
   ]
  },
  {
   "cell_type": "markdown",
   "metadata": {},
   "source": [
    "## Xử lý dữ liệu từ SJR\n"
   ]
  },
  {
   "cell_type": "code",
   "execution_count": 54,
   "metadata": {},
   "outputs": [],
   "source": [
    "def processing_columns_2 (data,year):\n",
    "    data['Time']=year\n",
    "    data=data.iloc[:,[9,1,2,3,4,5,6,7,8]]\n",
    "    return data"
   ]
  },
  {
   "cell_type": "code",
   "execution_count": 55,
   "metadata": {},
   "outputs": [],
   "source": [
    "data_sjr=0\n",
    "for i in range(2000,2021):\n",
    "    arr[i-2000]=processing_columns_2(arr[i-2000],str(i))\n",
    "    if(i-2000==0):\n",
    "        data_sjr=arr[i-2000]\n",
    "    else:\n",
    "        data_sjr=data_sjr.append(arr[i-2000])"
   ]
  },
  {
   "cell_type": "code",
   "execution_count": 56,
   "metadata": {},
   "outputs": [],
   "source": [
    "data_sjr=data_sjr.sort_values(by=['Country'])"
   ]
  },
  {
   "cell_type": "code",
   "execution_count": 57,
   "metadata": {},
   "outputs": [],
   "source": [
    "data_sjr.drop('Region', inplace=True, axis=1)"
   ]
  },
  {
   "cell_type": "code",
   "execution_count": 59,
   "metadata": {},
   "outputs": [],
   "source": [
    "data_sjr['Country']=data_sjr['Country'].str.strip()"
   ]
  },
  {
   "cell_type": "markdown",
   "metadata": {},
   "source": [
    "# Link tất cả các dữ liệu lại và\n"
   ]
  },
  {
   "cell_type": "code",
   "execution_count": 60,
   "metadata": {},
   "outputs": [],
   "source": [
    "data_un.rename(columns={'Country':'Country Name'},inplace=True)\n",
    "data_sjr.rename(columns={'Country':'Country Name'},inplace=True)"
   ]
  },
  {
   "cell_type": "code",
   "execution_count": 61,
   "metadata": {},
   "outputs": [],
   "source": [
    "data_un['Time']=data_un['Time'].astype('int64')"
   ]
  },
  {
   "cell_type": "code",
   "execution_count": 62,
   "metadata": {},
   "outputs": [],
   "source": [
    "data_sjr['Time']=data_sjr['Time'].astype('int64')"
   ]
  },
  {
   "cell_type": "code",
   "execution_count": 63,
   "metadata": {},
   "outputs": [],
   "source": [
    "data_wb['Country Name'] = data_wb['Country Name'].replace(['Venezuela, RB','Micronesia, Fed. Sts.','Vietnam','St. Vincent and the Grenadines','Slovak Republic','Kyrgyz Republic','North Macedonia','Yemen, Rep.','Hong Kong SAR, China','Congo, Rep.','Congo, Dem. Rep.','Macao SAR, China','Korea, Dem. People\\'s Rep.','Korea, Rep.','West Bank and Gaza','Bahamas, The','St. Martin (French part)','British Virgin Islands','Iran, Islamic Rep.','South Sudan','Egypt, Arab Rep.','St. Kitts and Nevis','Gambia, The','Lao PDR','St. Lucia','Cote d\\'Ivoire','Haiti']\n",
    ",['Venezuela','Federated States of Micronesia','Viet Nam','Saint Vincent and the Grenadines','Slovakia','Kyrgyzstan','Macedonia','Yemen','Hong Kong','Congo','Democratic Republic Congo','Macao','North Korea','South Korea','Palestine','Bahamas','Martinique','Virgin Islands (British)','Iran','Republic of South Sudan','Egypt','Saint Kitts and Nevis','Gambia','Laos','Saint Lucia','Côte d’Ivoire','Haïti'])"
   ]
  },
  {
   "cell_type": "code",
   "execution_count": 64,
   "metadata": {},
   "outputs": [],
   "source": [
    "data_un['Country Name']=data_un['Country Name'].replace(['Congo (Democratic Republic of the)','Eswatini (Kingdom of)','C�te d\\'Ivoire','Czechia','Haiti','Micronesia (Federated States of)','Lao People\\'s Democratic Republic','Palestine, State of','North Macedonia','Korea (Republic of)','Korea (Democratic People\\'s Rep. of)','Tanzania (United Republic of)','Hong Kong, China (SAR)','Bolivia (Plurinational State of)','Venezuela (Bolivarian Republic of)','Iran (Islamic Republic of)','South Sudan','Moldova (Republic of)']\n",
    ",['Democratic Republic Congo','Eswatini','Côte d’Ivoire','Czech Republic','Haïti','Federated States of Micronesia','Laos','Palestine','Macedonia','South Korea','North Korea','Tanzania','Hong Kong','Bolivia','Venezuela','Iran','Republic of South Sudan','Moldova'])"
   ]
  },
  {
   "cell_type": "code",
   "execution_count": 65,
   "metadata": {},
   "outputs": [],
   "source": [
    "data = pd.merge(data_wb,data_sjr, how=\"left\", on=['Country Name','Time'])"
   ]
  },
  {
   "cell_type": "code",
   "execution_count": 66,
   "metadata": {},
   "outputs": [],
   "source": [
    "data = pd.merge(data,data_un, how=\"left\", on=['Country Name','Time'])"
   ]
  },
  {
   "cell_type": "code",
   "execution_count": 67,
   "metadata": {},
   "outputs": [],
   "source": [
    "import numpy as np"
   ]
  },
  {
   "cell_type": "code",
   "execution_count": 68,
   "metadata": {},
   "outputs": [],
   "source": [
    "data.replace('..',np.nan,inplace=True)"
   ]
  },
  {
   "cell_type": "code",
   "execution_count": 69,
   "metadata": {},
   "outputs": [
    {
     "name": "stdout",
     "output_type": "stream",
     "text": [
      "Time                                                     0.000000\n",
      "Country Name                                             0.000000\n",
      "Population, total                                        0.197498\n",
      "Population ages 0-14 (% of total population)            10.796577\n",
      "Population ages 65 and above (% of total population)    10.796577\n",
      "                                                          ...    \n",
      "Mean Times of schooling (Times)                         18.674567\n",
      "HDI                                                     19.047619\n",
      "Literacy rate, adult                                    89.378977\n",
      "Life expectancy index                                   16.172921\n",
      "Life expectancy at birth (Times)                        16.172921\n",
      "Length: 154, dtype: float64\n"
     ]
    }
   ],
   "source": [
    "print(data.isnull().sum()*100/data['Time'].shape[0])"
   ]
  },
  {
   "cell_type": "code",
   "execution_count": 70,
   "metadata": {},
   "outputs": [],
   "source": [
    "data.to_csv('data.csv')"
   ]
  },
  {
   "cell_type": "markdown",
   "metadata": {},
   "source": [
    "# Xử lý feature\n"
   ]
  },
  {
   "cell_type": "code",
   "execution_count": 123,
   "metadata": {},
   "outputs": [],
   "source": [
    "data=pd.read_csv(r'T:\\FilesHocTap\\DS105_final_project\\DS105.M11\\all new\\data.csv',index_col=0)"
   ]
  },
  {
   "cell_type": "code",
   "execution_count": 124,
   "metadata": {},
   "outputs": [],
   "source": [
    "data_c=data.copy()"
   ]
  },
  {
   "cell_type": "code",
   "execution_count": 125,
   "metadata": {},
   "outputs": [
    {
     "name": "stderr",
     "output_type": "stream",
     "text": [
      "C:\\Users\\Admin\\AppData\\Local\\Temp/ipykernel_12868/1561826860.py:9: SettingWithCopyWarning: \n",
      "A value is trying to be set on a copy of a slice from a DataFrame\n",
      "\n",
      "See the caveats in the documentation: https://pandas.pydata.org/pandas-docs/stable/user_guide/indexing.html#returning-a-view-versus-a-copy\n",
      "  data_c['Population Structure'][i]='Young'\n",
      "C:\\Users\\Admin\\AppData\\Local\\Programs\\Python\\Python39\\lib\\site-packages\\pandas\\core\\indexing.py:1732: SettingWithCopyWarning: \n",
      "A value is trying to be set on a copy of a slice from a DataFrame\n",
      "\n",
      "See the caveats in the documentation: https://pandas.pydata.org/pandas-docs/stable/user_guide/indexing.html#returning-a-view-versus-a-copy\n",
      "  self._setitem_single_block(indexer, value, name)\n"
     ]
    }
   ],
   "source": [
    "# Population (Không cần check)\n",
    "data_c['Population Structure']=pd.Series(np.random.randint(len(data_c.index)), index=data_c.index)\n",
    "\n",
    "for i in data_c.index:\n",
    "    if (data_c['Population ages 0-14 (% of total population)'].isnull()[i]==True or data_c['Population ages 65 and above (% of total population)'].isnull()[i]==True):\n",
    "        data_c['Population Structure'][i]=np.nan\n",
    "        continue\n",
    "    if (data_c['Population ages 0-14 (% of total population)'][i]>=35 and data_c['Population ages 65 and above (% of total population)'][i]<=7):\n",
    "        data_c['Population Structure'][i]='Young'\n",
    "    else:\n",
    "        data_c['Population Structure'][i]='Old'\n",
    "\n",
    "data_c=data_c.drop(columns=['Population ages 0-14 (% of total population)', 'Population ages 65 and above (% of total population)', 'Population ages 15-64 (% of total population)'])"
   ]
  },
  {
   "cell_type": "code",
   "execution_count": 126,
   "metadata": {},
   "outputs": [
    {
     "name": "stderr",
     "output_type": "stream",
     "text": [
      "C:\\Users\\Admin\\AppData\\Local\\Temp/ipykernel_12868/1639778938.py:23: SettingWithCopyWarning: \n",
      "A value is trying to be set on a copy of a slice from a DataFrame\n",
      "\n",
      "See the caveats in the documentation: https://pandas.pydata.org/pandas-docs/stable/user_guide/indexing.html#returning-a-view-versus-a-copy\n",
      "  data_c['Industry has the highest employment contribution rate'][i]='Agriculture'\n"
     ]
    }
   ],
   "source": [
    "# Employment (không cần check)\n",
    "data_c['Industry has the highest employment contribution rate']=pd.Series(np.random.randint(len(data_c.index)), index=data_c.index)\n",
    "\n",
    "for i in data_c.index:\n",
    "    if (data_c['Employment in agriculture (% of total employment) (modeled ILO estimate)'].isnull()[i]==True\n",
    "        and data_c['Employment in industry (% of total employment) (modeled ILO estimate)'].isnull()[i]==True \n",
    "        and data_c['Employment in services (% of total employment) (modeled ILO estimate)'].isnull()[i]==True):\n",
    "        data_c['Industry has the highest employment contribution rate'][i]=np.nan\n",
    "        continue\n",
    "    else :\n",
    "        list_=[data_c['Employment in agriculture (% of total employment) (modeled ILO estimate)'][i],data_c['Employment in industry (% of total employment) (modeled ILO estimate)'][i],data_c['Employment in services (% of total employment) (modeled ILO estimate)'][i]]\n",
    "        list_copy=list_.copy()\n",
    "        list_copy = [x for x in list_ if np.isnan(x) == False]\n",
    "        if(len(list_copy)<2):\n",
    "            data_c['Industry has the highest employment contribution rate'][i]=np.nan\n",
    "            continue\n",
    "        if(len(list_copy)==2):\n",
    "            list_= [x if (np.isnan(x) == False) else (100-(list_copy[0]+list_copy[1])) for x in list_]\n",
    "        list_copy=list_.copy()\n",
    "        list_copy.sort(reverse=True)\n",
    "\n",
    "        if (list_copy[0]==list_[0]):\n",
    "            data_c['Industry has the highest employment contribution rate'][i]='Agriculture'\n",
    "        elif (list_copy[0]==list_[1]):\n",
    "            data_c['Industry has the highest employment contribution rate'][i]='Industry'\n",
    "        elif (list_copy[0]==list_[2]):\n",
    "            data_c['Industry has the highest employment contribution rate'][i]= 'Services'\n",
    "\n",
    "data_c=data_c.drop(columns=['Employment in agriculture (% of total employment) (modeled ILO estimate)', 'Employment in industry (% of total employment) (modeled ILO estimate)', 'Employment in services (% of total employment) (modeled ILO estimate)'])"
   ]
  },
  {
   "cell_type": "code",
   "execution_count": 127,
   "metadata": {},
   "outputs": [
    {
     "name": "stderr",
     "output_type": "stream",
     "text": [
      "C:\\Users\\Admin\\AppData\\Local\\Temp/ipykernel_12868/391564150.py:9: SettingWithCopyWarning: \n",
      "A value is trying to be set on a copy of a slice from a DataFrame\n",
      "\n",
      "See the caveats in the documentation: https://pandas.pydata.org/pandas-docs/stable/user_guide/indexing.html#returning-a-view-versus-a-copy\n",
      "  data_c['Highest GDP contribution industry rate'][i]=np.nan\n"
     ]
    }
   ],
   "source": [
    "# GDP contribution (không cần check)\n",
    "data_c['Highest GDP contribution industry rate']=pd.Series(np.random.randint(len(data_c.index)), index=data_c.index)\n",
    "\n",
    "for i in data_c.index:\n",
    "    if (data_c['Agriculture, forestry, and fishing, value added (% of GDP)'].isnull()[i]==True \n",
    "        and data_c['Industry (including construction), value added (% of GDP)'].isnull()[i]==True \n",
    "        and data_c['Manufacturing, value added (% of GDP)'].isnull()[i]==True \n",
    "        and data_c['Services, value added (% of GDP)'].isnull()[i]==True):\n",
    "        data_c['Highest GDP contribution industry rate'][i]=np.nan\n",
    "        continue\n",
    "    else :\n",
    "        list_=[data_c['Agriculture, forestry, and fishing, value added (% of GDP)'][i],data_c['Industry (including construction), value added (% of GDP)'][i],data_c['Manufacturing, value added (% of GDP)'][i],data_c['Services, value added (% of GDP)'][i]]\n",
    "        list_copy=list_.copy()\n",
    "        list_copy = [x for x in list_ if np.isnan(x) == False]\n",
    "        if(len(list_copy)<3):\n",
    "            data_c['Highest GDP contribution industry rate'][i]=np.nan\n",
    "            continue\n",
    "        if(len(list_copy)==3):\n",
    "            list_= [x if (np.isnan(x) == False) else (100-(list_copy[0]+list_copy[1]+list_copy[2])) for x in list_]\n",
    "        list_copy=list_.copy()\n",
    "        list_copy.sort(reverse=True)\n",
    "\n",
    "        if (list_copy[0]==list_[0]):\n",
    "            data_c['Highest GDP contribution industry rate'][i]='Agriculture, forestry, and fishing'\n",
    "        elif (list_copy[0]==list_[1]):\n",
    "            data_c['Highest GDP contribution industry rate'][i]='Industry (including construction)'\n",
    "        elif (list_copy[0]==list_[2]):\n",
    "            data_c['Highest GDP contribution industry rate'][i]='Manufacturing'\n",
    "        elif (list_copy[0]==list_[3]):\n",
    "            data_c['Highest GDP contribution industry rate'][i]= 'Services'\n",
    "\n",
    "data_c=data_c.drop(columns=['Agriculture, forestry, and fishing, value added (% of GDP)', 'Industry (including construction), value added (% of GDP)', 'Manufacturing, value added (% of GDP)', 'Services, value added (% of GDP)'])"
   ]
  },
  {
   "cell_type": "code",
   "execution_count": 128,
   "metadata": {},
   "outputs": [],
   "source": [
    "data_c['HDI']=np.select([data_c['HDI']>=0.8,np.logical_and(data_c['HDI']>=0.7,data_c['HDI']<0.8),np.logical_and(data_c['HDI']>=0.55, data_c['HDI']<0.7), data_c['HDI']<0.55,data_c['HDI'].isna()==True],['Very High','High','Medium','Low',np.nan])"
   ]
  },
  {
   "cell_type": "code",
   "execution_count": 129,
   "metadata": {},
   "outputs": [],
   "source": [
    "data_c['Population growth']=np.select([data_c['Population growth (annual %)']>=3,np.logical_and(data_c['Population growth (annual %)']>=2,data_c['Population growth (annual %)']<3),np.logical_and(data_c['Population growth (annual %)']>=1, data_c['Population growth (annual %)']<2), np.logical_and(data_c['Population growth (annual %)']>=0,data_c['Population growth (annual %)']<1),data_c['Population growth (annual %)']<0,data_c['Population growth (annual %)'].isna()==True],['+3','2-3','1-2','0-1','-0',np.nan])\n",
    "data_c=data_c.drop(columns=['Population growth (annual %)'])"
   ]
  },
  {
   "cell_type": "code",
   "execution_count": 130,
   "metadata": {},
   "outputs": [
    {
     "name": "stderr",
     "output_type": "stream",
     "text": [
      "C:\\Users\\Admin\\AppData\\Local\\Temp/ipykernel_12868/2808597082.py:13: SettingWithCopyWarning: \n",
      "A value is trying to be set on a copy of a slice from a DataFrame\n",
      "\n",
      "See the caveats in the documentation: https://pandas.pydata.org/pandas-docs/stable/user_guide/indexing.html#returning-a-view-versus-a-copy\n",
      "  data_c['Type has the highest manufacturing contribution rate'][i]=np.nan\n"
     ]
    }
   ],
   "source": [
    "# manufacture (không cần check)\n",
    "data_c['Type has the highest manufacturing contribution rate']=pd.Series(np.random.randint(len(data_c.index)), index=data_c.index)\n",
    "\n",
    "for i in data_c.index:\n",
    "    list_=[data_c['Chemicals (% of value added in manufacturing)'][i]\n",
    "    ,data_c['Food, beverages and tobacco (% of value added in manufacturing)'][i]\n",
    "    ,data_c['Machinery and transport equipment (% of value added in manufacturing)'][i]\n",
    "    ,data_c['Other manufacturing (% of value added in manufacturing)'][i]\n",
    "    ,data_c['Textiles and clothing (% of value added in manufacturing)'][i]]\n",
    "    list_copy=list_.copy()\n",
    "    list_copy = [x for x in list_ if np.isnan(x) == False]\n",
    "    if(len(list_copy)<4):\n",
    "        data_c['Type has the highest manufacturing contribution rate'][i]=np.nan\n",
    "        continue\n",
    "    if(len(list_copy)==4):\n",
    "        list_= [x if (np.isnan(x) == False) else (100-(list_copy[0]+list_copy[1])) for x in list_]\n",
    "    list_copy=list_.copy()\n",
    "    list_copy.sort(reverse=True)\n",
    "\n",
    "    if (list_copy[0]==list_[0]):\n",
    "        data_c['Type has the highest manufacturing contribution rate'][i]='Chemicals'\n",
    "    elif (list_copy[0]==list_[1]):\n",
    "        data_c['Type has the highest manufacturing contribution rate'][i]='Food, beverages and tobacco'\n",
    "    elif (list_copy[0]==list_[2]):\n",
    "        data_c['Type has the highest manufacturing contribution rate'][i]= 'Machinery and transport equipment'\n",
    "    elif (list_copy[0]==list_[3]):\n",
    "        data_c['Type has the highest manufacturing contribution rate'][i]= 'Other manufacturing'\n",
    "    elif (list_copy[0]==list_[4]):\n",
    "        data_c['Type has the highest manufacturing contribution rate'][i]= 'Textiles and clothing (% of value added in manufacturing)'\n",
    "\n",
    "data_c=data_c.drop(columns=['Chemicals (% of value added in manufacturing)'\n",
    "    ,'Food, beverages and tobacco (% of value added in manufacturing)'\n",
    "    ,'Machinery and transport equipment (% of value added in manufacturing)'\n",
    "    ,'Other manufacturing (% of value added in manufacturing)'\n",
    "    ,'Textiles and clothing (% of value added in manufacturing)'])"
   ]
  },
  {
   "cell_type": "code",
   "execution_count": 131,
   "metadata": {},
   "outputs": [],
   "source": [
    "# Không khả thi\n",
    "data_c=data_c.drop(columns=['Agricultural land (% of land area)','Arable land (% of land area)','Forest area (% of land area)','Permanent cropland (% of land area)'])"
   ]
  },
  {
   "cell_type": "code",
   "execution_count": 132,
   "metadata": {},
   "outputs": [],
   "source": [
    "# Không khả thi\n",
    "data_c=data_c.drop(columns=['Electricity production from coal sources (% of total)','Electricity production from hydroelectric sources (% of total)'\n",
    ",'Electricity production from natural gas sources (% of total)','Electricity production from nuclear sources (% of total)'\n",
    ",'Electricity production from oil sources (% of total)','Electricity production from oil, gas and coal sources (% of total)',\n",
    "'Electricity production from renewable sources, excluding hydroelectric (% of total)'])"
   ]
  },
  {
   "cell_type": "code",
   "execution_count": 133,
   "metadata": {},
   "outputs": [
    {
     "name": "stderr",
     "output_type": "stream",
     "text": [
      "C:\\Users\\Admin\\AppData\\Local\\Temp/ipykernel_12868/2695825310.py:13: SettingWithCopyWarning: \n",
      "A value is trying to be set on a copy of a slice from a DataFrame\n",
      "\n",
      "See the caveats in the documentation: https://pandas.pydata.org/pandas-docs/stable/user_guide/indexing.html#returning-a-view-versus-a-copy\n",
      "  data_c['Type has the highest merchandise import contribution rate'][i]=np.nan\n"
     ]
    }
   ],
   "source": [
    "# merchandise import (không cần check lại)\n",
    "data_c['Type has the highest merchandise import contribution rate']=pd.Series(np.random.randint(len(data_c.index)), index=data_c.index)\n",
    "\n",
    "for i in data_c.index:\n",
    "    list_=[data_c['Food imports (% of merchandise imports)'][i]\n",
    "    ,data_c['Fuel imports (% of merchandise imports)'][i]\n",
    "    ,data_c['Manufactures imports (% of merchandise imports)'][i]\n",
    "    ,data_c['Agricultural raw materials imports (% of merchandise imports)'][i]\n",
    "    ,data_c['Ores and metals imports (% of merchandise imports)'][i]]\n",
    "    list_copy=list_.copy()\n",
    "    list_copy = [x for x in list_ if np.isnan(x) == False]\n",
    "    if(len(list_copy)<4):\n",
    "        data_c['Type has the highest merchandise import contribution rate'][i]=np.nan\n",
    "        continue\n",
    "    if(len(list_copy)==4):\n",
    "        list_= [x if (np.isnan(x) == False) else (100-(list_copy[0]+list_copy[1]+list_copy[2]+list_copy[3])) for x in list_]\n",
    "    list_.append(100-(list_[0]+list_[1]+list_[2]+list_[3]+list_[4]))\n",
    "    list_copy=list_.copy()\n",
    "    list_copy.sort(reverse=True)\n",
    "\n",
    "    if (list_copy[0]==list_[0]):\n",
    "        data_c['Type has the highest merchandise import contribution rate'][i]='Food'\n",
    "    elif (list_copy[0]==list_[1]):\n",
    "        data_c['Type has the highest merchandise import contribution rate'][i]='Fuel'\n",
    "    elif (list_copy[0]==list_[2]):\n",
    "        data_c['Type has the highest merchandise import contribution rate'][i]= 'Manufactures'\n",
    "    elif (list_copy[0]==list_[3]):\n",
    "        data_c['Type has the highest merchandise import contribution rate'][i]= 'Agricultural raw materials'\n",
    "    elif (list_copy[0]==list_[4]):\n",
    "        data_c['Type has the highest merchandise import contribution rate'][i]= 'Ores and metals'\n",
    "    elif (list_copy[0]==list_[5]):\n",
    "        data_c['Type has the highest merchandise import contribution rate'][i]= 'Other'\n",
    "\n",
    "data_c=data_c.drop(columns=['Food imports (% of merchandise imports)'\n",
    "    ,'Fuel imports (% of merchandise imports)'\n",
    "    ,'Manufactures imports (% of merchandise imports)'\n",
    "    ,'Agricultural raw materials imports (% of merchandise imports)'\n",
    "    ,'Ores and metals imports (% of merchandise imports)'])"
   ]
  },
  {
   "cell_type": "code",
   "execution_count": 134,
   "metadata": {},
   "outputs": [
    {
     "name": "stderr",
     "output_type": "stream",
     "text": [
      "C:\\Users\\Admin\\AppData\\Local\\Temp/ipykernel_12868/2350473587.py:13: SettingWithCopyWarning: \n",
      "A value is trying to be set on a copy of a slice from a DataFrame\n",
      "\n",
      "See the caveats in the documentation: https://pandas.pydata.org/pandas-docs/stable/user_guide/indexing.html#returning-a-view-versus-a-copy\n",
      "  data_c['Type has the highest merchandise export contribution rate'][i]=np.nan\n"
     ]
    }
   ],
   "source": [
    "# merchandise export (không cần check lại)\n",
    "data_c['Type has the highest merchandise export contribution rate']=pd.Series(np.random.randint(len(data_c.index)), index=data_c.index)\n",
    "\n",
    "for i in data_c.index:\n",
    "    list_=[data_c['Food exports (% of merchandise exports)'][i]\n",
    "    ,data_c['Fuel exports (% of merchandise exports)'][i]\n",
    "    ,data_c['Manufactures exports (% of merchandise exports)'][i]\n",
    "    ,data_c['Agricultural raw materials exports (% of merchandise exports)'][i]\n",
    "    ,data_c['Ores and metals exports (% of merchandise exports)'][i]]\n",
    "    list_copy=list_.copy()\n",
    "    list_copy = [x for x in list_ if np.isnan(x) == False]\n",
    "    if(len(list_copy)<4):\n",
    "        data_c['Type has the highest merchandise export contribution rate'][i]=np.nan\n",
    "        continue\n",
    "    if(len(list_copy)==4):\n",
    "        list_= [x if (np.isnan(x) == False) else (100-(list_copy[0]+list_copy[1]+list_copy[2]+list_copy[3])) for x in list_]\n",
    "    list_.append(100-(list_[0]+list_[1]+list_[2]+list_[3]+list_[4]))\n",
    "    list_copy=list_.copy()\n",
    "    list_copy.sort(reverse=True)\n",
    "\n",
    "    if (list_copy[0]==list_[0]):\n",
    "        data_c['Type has the highest merchandise export contribution rate'][i]='Food'\n",
    "    elif (list_copy[0]==list_[1]):\n",
    "        data_c['Type has the highest merchandise export contribution rate'][i]='Fuel'\n",
    "    elif (list_copy[0]==list_[2]):\n",
    "        data_c['Type has the highest merchandise export contribution rate'][i]= 'Manufactures'\n",
    "    elif (list_copy[0]==list_[3]):\n",
    "        data_c['Type has the highest merchandise export contribution rate'][i]= 'Agricultural raw materials'\n",
    "    elif (list_copy[0]==list_[4]):\n",
    "        data_c['Type has the highest merchandise export contribution rate'][i]= 'Ores and metals'\n",
    "    elif (list_copy[0]==list_[5]):\n",
    "        data_c['Type has the highest merchandise export contribution rate'][i]= 'Other'\n",
    "\n",
    "data_c=data_c.drop(columns=['Food exports (% of merchandise exports)'\n",
    "    ,'Fuel exports (% of merchandise exports)'\n",
    "    ,'Manufactures exports (% of merchandise exports)'\n",
    "    ,'Agricultural raw materials exports (% of merchandise exports)'\n",
    "    ,'Ores and metals exports (% of merchandise exports)'])"
   ]
  },
  {
   "cell_type": "code",
   "execution_count": 135,
   "metadata": {},
   "outputs": [
    {
     "data": {
      "text/plain": [
       "\"# Hơi mạo hiểm nên từ từ\\ndata_c['Merchandise exports to economies with the most proportion']=pd.Series(np.random.randint(len(data_c.index)), index=data_c.index)\\n\\nfor i in data_c.index:\\n    list_=[data_c['Merchandise exports to economies in the Arab World (% of total merchandise exports)'][i]\\n    ,data_c['Merchandise exports to low- and middle-income economies in East Asia & Pacific (% of total merchandise exports)'][i]\\n    ,data_c['Merchandise exports to high-income economies (% of total merchandise exports)'][i]\\n    ,data_c['Merchandise exports to low- and middle-income economies in Europe & Central Asia (% of total merchandise exports)'][i]\\n    ,data_c['Merchandise exports to low- and middle-income economies in Latin America & the Caribbean (% of total merchandise exports)'][i]\\n    ,data_c['Merchandise exports to low- and middle-income economies in Middle East & North Africa (% of total merchandise exports)'][i]\\n    ,data_c['Merchandise exports to low- and middle-income economies in South Asia (% of total merchandise exports)'][i]\\n    ,data_c['Merchandise exports to low- and middle-income economies in Sub-Saharan Africa (% of total merchandise exports)'][i]\\n    ,data_c['Merchandise exports to low- and middle-income economies outside region (% of total merchandise exports)'][i]\\n    ,data_c['Merchandise exports to low- and middle-income economies within region (% of total merchandise exports)'][i]]\\n    list_copy=list_.copy()\\n    list_copy = [x for x in list_ if np.isnan(x) == False]\\n    if(len(list_copy)<3):\\n        data_c['Merchandise exports to economies with the most proportion'][i]=np.nan\\n        continue\\n    if(len(list_copy)==3):\\n        list_= [x if (np.isnan(x) == False) else (100-(list_copy[0]+list_copy[1]+list_copy[2])) for x in list_]\\n    list_.append(100-(list_[0]+list_[1]+list_[2]+list_[3]))\\n    list_copy=list_.copy()\\n    list_copy.sort(reverse=True)\\n\\n    if (list_copy[0]==list_[0]):\\n        data_c['Merchandise exports to economies with the most proportion'][i]='Food'\\n    elif (list_copy[0]==list_[1]):\\n        data_c['Merchandise exports to economies with the most proportion'][i]='Fuel'\\n    elif (list_copy[0]==list_[2]):\\n        data_c['Merchandise exports to economies with the most proportion'][i]= 'Manufactures'\\n    elif (list_copy[0]==list_[3]):\\n        data_c['Merchandise exports to economies with the most proportion'][i]= 'Agricultural raw materials'\\n    elif (list_copy[0]==list_[4]):\\n        data_c['Merchandise exports to economies with the most proportion'][i]= 'Other'\\n\\ndata_c=data_c.drop(columns=['Merchandise exports to economies in the Arab World (% of total merchandise exports)'\\n    ,'Merchandise exports to low- and middle-income economies in East Asia & Pacific (% of total merchandise exports)'\\n    ,'Merchandise exports to high-income economies (% of total merchandise exports)'\\n    ,'Merchandise exports to high-income economies (% of total merchandise exports)'\\n    ,''])\""
      ]
     },
     "execution_count": 135,
     "metadata": {},
     "output_type": "execute_result"
    }
   ],
   "source": [
    "\"\"\"# Hơi mạo hiểm nên từ từ\n",
    "data_c['Merchandise exports to economies with the most proportion']=pd.Series(np.random.randint(len(data_c.index)), index=data_c.index)\n",
    "\n",
    "for i in data_c.index:\n",
    "    list_=[data_c['Merchandise exports to economies in the Arab World (% of total merchandise exports)'][i]\n",
    "    ,data_c['Merchandise exports to low- and middle-income economies in East Asia & Pacific (% of total merchandise exports)'][i]\n",
    "    ,data_c['Merchandise exports to high-income economies (% of total merchandise exports)'][i]\n",
    "    ,data_c['Merchandise exports to low- and middle-income economies in Europe & Central Asia (% of total merchandise exports)'][i]\n",
    "    ,data_c['Merchandise exports to low- and middle-income economies in Latin America & the Caribbean (% of total merchandise exports)'][i]\n",
    "    ,data_c['Merchandise exports to low- and middle-income economies in Middle East & North Africa (% of total merchandise exports)'][i]\n",
    "    ,data_c['Merchandise exports to low- and middle-income economies in South Asia (% of total merchandise exports)'][i]\n",
    "    ,data_c['Merchandise exports to low- and middle-income economies in Sub-Saharan Africa (% of total merchandise exports)'][i]\n",
    "    ,data_c['Merchandise exports to low- and middle-income economies outside region (% of total merchandise exports)'][i]\n",
    "    ,data_c['Merchandise exports to low- and middle-income economies within region (% of total merchandise exports)'][i]]\n",
    "    list_copy=list_.copy()\n",
    "    list_copy = [x for x in list_ if np.isnan(x) == False]\n",
    "    if(len(list_copy)<3):\n",
    "        data_c['Merchandise exports to economies with the most proportion'][i]=np.nan\n",
    "        continue\n",
    "    if(len(list_copy)==3):\n",
    "        list_= [x if (np.isnan(x) == False) else (100-(list_copy[0]+list_copy[1]+list_copy[2])) for x in list_]\n",
    "    list_.append(100-(list_[0]+list_[1]+list_[2]+list_[3]))\n",
    "    list_copy=list_.copy()\n",
    "    list_copy.sort(reverse=True)\n",
    "\n",
    "    if (list_copy[0]==list_[0]):\n",
    "        data_c['Merchandise exports to economies with the most proportion'][i]='Food'\n",
    "    elif (list_copy[0]==list_[1]):\n",
    "        data_c['Merchandise exports to economies with the most proportion'][i]='Fuel'\n",
    "    elif (list_copy[0]==list_[2]):\n",
    "        data_c['Merchandise exports to economies with the most proportion'][i]= 'Manufactures'\n",
    "    elif (list_copy[0]==list_[3]):\n",
    "        data_c['Merchandise exports to economies with the most proportion'][i]= 'Agricultural raw materials'\n",
    "    elif (list_copy[0]==list_[4]):\n",
    "        data_c['Merchandise exports to economies with the most proportion'][i]= 'Other'\n",
    "\n",
    "data_c=data_c.drop(columns=['Merchandise exports to economies in the Arab World (% of total merchandise exports)'\n",
    "    ,'Merchandise exports to low- and middle-income economies in East Asia & Pacific (% of total merchandise exports)'\n",
    "    ,'Merchandise exports to high-income economies (% of total merchandise exports)'\n",
    "    ,'Merchandise exports to high-income economies (% of total merchandise exports)'\n",
    "    ,''])\"\"\""
   ]
  },
  {
   "cell_type": "code",
   "execution_count": 136,
   "metadata": {},
   "outputs": [],
   "source": [
    "# Không khả thi\n",
    "data_c=data_c.drop(columns=['Merchandise exports by the reporting economy, residual (% of total merchandise exports)',\n",
    "'Merchandise exports to economies in the Arab World (% of total merchandise exports)',\n",
    "'Merchandise exports to low- and middle-income economies in East Asia & Pacific (% of total merchandise exports)',\n",
    "'Merchandise exports to high-income economies (% of total merchandise exports)',\n",
    "'Merchandise exports to low- and middle-income economies in Europe & Central Asia (% of total merchandise exports)',\n",
    "'Merchandise exports to low- and middle-income economies in Latin America & the Caribbean (% of total merchandise exports)',\n",
    "'Merchandise exports to low- and middle-income economies in Middle East & North Africa (% of total merchandise exports)',\n",
    "'Merchandise exports to low- and middle-income economies in South Asia (% of total merchandise exports)',\n",
    "'Merchandise exports to low- and middle-income economies in Sub-Saharan Africa (% of total merchandise exports)',\n",
    "'Merchandise exports to low- and middle-income economies outside region (% of total merchandise exports)',\n",
    "'Merchandise exports to low- and middle-income economies within region (% of total merchandise exports)'\n",
    "])"
   ]
  },
  {
   "cell_type": "code",
   "execution_count": 137,
   "metadata": {},
   "outputs": [],
   "source": [
    "data_c=data_c.drop(columns=['Merchandise imports by the reporting economy, residual (% of total merchandise imports)',\n",
    "'Merchandise imports from economies in the Arab World (% of total merchandise imports)',\n",
    "'Merchandise imports from high-income economies (% of total merchandise imports)',\n",
    "'Merchandise imports from low- and middle-income economies in East Asia & Pacific (% of total merchandise imports)',\n",
    "'Merchandise imports from low- and middle-income economies in Europe & Central Asia (% of total merchandise imports)',\n",
    "'Merchandise imports from low- and middle-income economies in Latin America & the Caribbean (% of total merchandise imports)',\n",
    "'Merchandise imports from low- and middle-income economies in Middle East & North Africa (% of total merchandise imports)',\n",
    "'Merchandise imports from low- and middle-income economies in South Asia (% of total merchandise imports)',\n",
    "'Merchandise imports from low- and middle-income economies in Sub-Saharan Africa (% of total merchandise imports)',\n",
    "'Merchandise imports from low- and middle-income economies outside region (% of total merchandise imports)',\n",
    "'Merchandise imports from low- and middle-income economies within region (% of total merchandise imports)'\n",
    "])"
   ]
  },
  {
   "cell_type": "code",
   "execution_count": 138,
   "metadata": {},
   "outputs": [
    {
     "name": "stderr",
     "output_type": "stream",
     "text": [
      "C:\\Users\\Admin\\AppData\\Local\\Temp/ipykernel_12868/2585075944.py:12: SettingWithCopyWarning: \n",
      "A value is trying to be set on a copy of a slice from a DataFrame\n",
      "\n",
      "See the caveats in the documentation: https://pandas.pydata.org/pandas-docs/stable/user_guide/indexing.html#returning-a-view-versus-a-copy\n",
      "  data_c['Type has the highest service export contribution rate'][i]=np.nan\n"
     ]
    }
   ],
   "source": [
    "# service export (không cần check lại)\n",
    "data_c['Type has the highest service export contribution rate']=pd.Series(np.random.randint(len(data_c.index)), index=data_c.index)\n",
    "\n",
    "for i in data_c.index:\n",
    "    list_=[data_c['Communications, computer, etc. (% of service exports, BoP)'][i]\n",
    "    ,data_c['Insurance and financial services (% of service exports, BoP)'][i]\n",
    "    ,data_c['Transport services (% of service exports, BoP)'][i]\n",
    "    ,data_c['Travel services (% of service exports, BoP)'][i]]\n",
    "    list_copy=list_.copy()\n",
    "    list_copy = [x for x in list_ if np.isnan(x) == False]\n",
    "    if(len(list_copy)<3):\n",
    "        data_c['Type has the highest service export contribution rate'][i]=np.nan\n",
    "        continue\n",
    "    if(len(list_copy)==3):\n",
    "        list_= [x if (np.isnan(x) == False) else (100-(list_copy[0]+list_copy[1]+list_copy[2])) for x in list_]\n",
    "    list_.append(100-(list_[0]+list_[1]+list_[2]+list_[3]))\n",
    "    list_copy=list_.copy()\n",
    "    list_copy.sort(reverse=True)\n",
    "\n",
    "    if (list_copy[0]==list_[0]):\n",
    "        data_c['Type has the highest service export contribution rate'][i]='Communications, computer, etc'\n",
    "    elif (list_copy[0]==list_[1]):\n",
    "        data_c['Type has the highest service export contribution rate'][i]='Insurance and financial services'\n",
    "    elif (list_copy[0]==list_[2]):\n",
    "        data_c['Type has the highest service export contribution rate'][i]= 'Transport services'\n",
    "    elif (list_copy[0]==list_[3]):\n",
    "        data_c['Type has the highest service export contribution rate'][i]= 'Travel services'\n",
    "    elif (list_copy[0]==list_[4]):\n",
    "        data_c['Type has the highest service export contribution rate'][i]= 'Other'\n",
    "\n",
    "data_c=data_c.drop(columns=['Communications, computer, etc. (% of service exports, BoP)'\n",
    "    ,'Insurance and financial services (% of service exports, BoP)'\n",
    "    ,'Transport services (% of service exports, BoP)'\n",
    "    ,'Travel services (% of service exports, BoP)'])"
   ]
  },
  {
   "cell_type": "code",
   "execution_count": 139,
   "metadata": {},
   "outputs": [
    {
     "name": "stderr",
     "output_type": "stream",
     "text": [
      "C:\\Users\\Admin\\AppData\\Local\\Temp/ipykernel_12868/2770724117.py:12: SettingWithCopyWarning: \n",
      "A value is trying to be set on a copy of a slice from a DataFrame\n",
      "\n",
      "See the caveats in the documentation: https://pandas.pydata.org/pandas-docs/stable/user_guide/indexing.html#returning-a-view-versus-a-copy\n",
      "  data_c['Type has the highest service import contribution rate'][i]=np.nan\n"
     ]
    }
   ],
   "source": [
    "# service import (không cần check lại)\n",
    "data_c['Type has the highest service import contribution rate']=pd.Series(np.random.randint(len(data_c.index)), index=data_c.index)\n",
    "\n",
    "for i in data_c.index:\n",
    "    list_=[data_c['Communications, computer, etc. (% of service imports, BoP)'][i]\n",
    "    ,data_c['Insurance and financial services (% of service imports, BoP)'][i]\n",
    "    ,data_c['Transport services (% of service imports, BoP)'][i]\n",
    "    ,data_c['Travel services (% of service imports, BoP)'][i]]\n",
    "    list_copy=list_.copy()\n",
    "    list_copy = [x for x in list_ if np.isnan(x) == False]\n",
    "    if(len(list_copy)<3):\n",
    "        data_c['Type has the highest service import contribution rate'][i]=np.nan\n",
    "        continue\n",
    "    if(len(list_copy)==3):\n",
    "        list_= [x if (np.isnan(x) == False) else (100-(list_copy[0]+list_copy[1]+list_copy[2])) for x in list_]\n",
    "    list_.append(100-(list_[0]+list_[1]+list_[2]+list_[3]))\n",
    "    list_copy=list_.copy()\n",
    "    list_copy.sort(reverse=True)\n",
    "\n",
    "    if (list_copy[0]==list_[0]):\n",
    "        data_c['Type has the highest service import contribution rate'][i]='Communications, computer, etc'\n",
    "    elif (list_copy[0]==list_[1]):\n",
    "        data_c['Type has the highest service import contribution rate'][i]='Insurance and financial services'\n",
    "    elif (list_copy[0]==list_[2]):\n",
    "        data_c['Type has the highest service import contribution rate'][i]= 'Transport services'\n",
    "    elif (list_copy[0]==list_[3]):\n",
    "        data_c['Type has the highest service import contribution rate'][i]= 'Travel services'\n",
    "    elif (list_copy[0]==list_[4]):\n",
    "        data_c['Type has the highest service import contribution rate'][i]= 'Other'\n",
    "\n",
    "data_c=data_c.drop(columns=['Communications, computer, etc. (% of service imports, BoP)'\n",
    "    ,'Insurance and financial services (% of service imports, BoP)'\n",
    "    ,'Transport services (% of service imports, BoP)'\n",
    "    ,'Travel services (% of service imports, BoP)'])"
   ]
  },
  {
   "cell_type": "code",
   "execution_count": 140,
   "metadata": {},
   "outputs": [
    {
     "name": "stderr",
     "output_type": "stream",
     "text": [
      "C:\\Users\\Admin\\AppData\\Local\\Temp/ipykernel_12868/385245862.py:12: SettingWithCopyWarning: \n",
      "A value is trying to be set on a copy of a slice from a DataFrame\n",
      "\n",
      "See the caveats in the documentation: https://pandas.pydata.org/pandas-docs/stable/user_guide/indexing.html#returning-a-view-versus-a-copy\n",
      "  data_c['Type has the highest commercial service export contribution rate'][i]=np.nan\n"
     ]
    }
   ],
   "source": [
    "# commercial commercial service export (không cần check lại)\n",
    "data_c['Type has the highest commercial service export contribution rate']=pd.Series(np.random.randint(len(data_c.index)), index=data_c.index)\n",
    "\n",
    "for i in data_c.index:\n",
    "    list_=[data_c['Computer, communications and other services (% of commercial service exports)'][i]\n",
    "    ,data_c['Insurance and financial services (% of commercial service exports)'][i]\n",
    "    ,data_c['Transport services (% of commercial service exports)'][i]\n",
    "    ,data_c['Travel services (% of commercial service exports)'][i]]\n",
    "    list_copy=list_.copy()\n",
    "    list_copy = [x for x in list_ if np.isnan(x) == False]\n",
    "    if(len(list_copy)<3):\n",
    "        data_c['Type has the highest commercial service export contribution rate'][i]=np.nan\n",
    "        continue\n",
    "    if(len(list_copy)==3):\n",
    "        list_= [x if (np.isnan(x) == False) else (100-(list_copy[0]+list_copy[1]+list_copy[2])) for x in list_]\n",
    "    list_.append(100-(list_[0]+list_[1]+list_[2]+list_[3]))\n",
    "    list_copy=list_.copy()\n",
    "    list_copy.sort(reverse=True)\n",
    "\n",
    "    if (list_copy[0]==list_[0]):\n",
    "        data_c['Type has the highest commercial service export contribution rate'][i]='Communications, computer and other service'\n",
    "    elif (list_copy[0]==list_[1]):\n",
    "        data_c['Type has the highest commercial service export contribution rate'][i]='Insurance and financial services'\n",
    "    elif (list_copy[0]==list_[2]):\n",
    "        data_c['Type has the highest commercial service export contribution rate'][i]= 'Transport services'\n",
    "    elif (list_copy[0]==list_[3]):\n",
    "        data_c['Type has the highest commercial service export contribution rate'][i]= 'Travel services'\n",
    "    elif (list_copy[0]==list_[4]):\n",
    "        data_c['Type has the highest commercial service export contribution rate'][i]= 'Other'\n",
    "\n",
    "data_c=data_c.drop(columns=['Computer, communications and other services (% of commercial service exports)'\n",
    "    ,'Insurance and financial services (% of commercial service exports)'\n",
    "    ,'Transport services (% of commercial service exports)'\n",
    "    ,'Travel services (% of commercial service exports)'])"
   ]
  },
  {
   "cell_type": "code",
   "execution_count": 141,
   "metadata": {},
   "outputs": [
    {
     "name": "stderr",
     "output_type": "stream",
     "text": [
      "C:\\Users\\Admin\\AppData\\Local\\Temp/ipykernel_12868/696312842.py:12: SettingWithCopyWarning: \n",
      "A value is trying to be set on a copy of a slice from a DataFrame\n",
      "\n",
      "See the caveats in the documentation: https://pandas.pydata.org/pandas-docs/stable/user_guide/indexing.html#returning-a-view-versus-a-copy\n",
      "  data_c['Type has the highest commercial service import contribution rate'][i]=np.nan\n"
     ]
    }
   ],
   "source": [
    "# commercial commercial service import (không cần check lại)\n",
    "data_c['Type has the highest commercial service import contribution rate']=pd.Series(np.random.randint(len(data_c.index)), index=data_c.index)\n",
    "\n",
    "for i in data_c.index:\n",
    "    list_=[data_c['Computer, communications and other services (% of commercial service imports)'][i]\n",
    "    ,data_c['Insurance and financial services (% of commercial service imports)'][i]\n",
    "    ,data_c['Transport services (% of commercial service imports)'][i]\n",
    "    ,data_c['Travel services (% of commercial service imports)'][i]]\n",
    "    list_copy=list_.copy()\n",
    "    list_copy = [x for x in list_ if np.isnan(x) == False]\n",
    "    if(len(list_copy)<3):\n",
    "        data_c['Type has the highest commercial service import contribution rate'][i]=np.nan\n",
    "        continue\n",
    "    if(len(list_copy)==3):\n",
    "        list_= [x if (np.isnan(x) == False) else (100-(list_copy[0]+list_copy[1]+list_copy[2])) for x in list_]\n",
    "    list_.append(100-(list_[0]+list_[1]+list_[2]+list_[3]))\n",
    "    list_copy=list_.copy()\n",
    "    list_copy.sort(reverse=True)\n",
    "\n",
    "    if (list_copy[0]==list_[0]):\n",
    "        data_c['Type has the highest commercial service import contribution rate'][i]='Communications, computer and other service'\n",
    "    elif (list_copy[0]==list_[1]):\n",
    "        data_c['Type has the highest commercial service import contribution rate'][i]='Insurance and financial services'\n",
    "    elif (list_copy[0]==list_[2]):\n",
    "        data_c['Type has the highest commercial service import contribution rate'][i]= 'Transport services'\n",
    "    elif (list_copy[0]==list_[3]):\n",
    "        data_c['Type has the highest commercial service import contribution rate'][i]= 'Travel services'\n",
    "    elif (list_copy[0]==list_[4]):\n",
    "        data_c['Type has the highest commercial service import contribution rate'][i]= 'Other'\n",
    "\n",
    "data_c=data_c.drop(columns=['Computer, communications and other services (% of commercial service imports)'\n",
    "    ,'Insurance and financial services (% of commercial service imports)'\n",
    "    ,'Transport services (% of commercial service imports)'\n",
    "    ,'Travel services (% of commercial service imports)'])"
   ]
  },
  {
   "cell_type": "code",
   "execution_count": 142,
   "metadata": {},
   "outputs": [
    {
     "name": "stderr",
     "output_type": "stream",
     "text": [
      "C:\\Users\\Admin\\AppData\\Local\\Temp/ipykernel_12868/2804447264.py:27: SettingWithCopyWarning: \n",
      "A value is trying to be set on a copy of a slice from a DataFrame\n",
      "\n",
      "See the caveats in the documentation: https://pandas.pydata.org/pandas-docs/stable/user_guide/indexing.html#returning-a-view-versus-a-copy\n",
      "  data_c['Adjusted savings (% of GNI)'][i]= 'education expenditure'\n"
     ]
    }
   ],
   "source": [
    "# Adjusted savings (% of GNI) (không cần check lại)\n",
    "data_c['Adjusted savings (% of GNI)']=pd.Series(np.random.randint(len(data_c.index)), index=data_c.index)\n",
    "\n",
    "for i in data_c.index:\n",
    "    list_=[data_c['Adjusted savings: carbon dioxide damage (% of GNI)'][i]\n",
    "    ,data_c['Adjusted savings: consumption of fixed capital (% of GNI)'][i]\n",
    "    ,data_c['Adjusted savings: education expenditure (% of GNI)'][i]\n",
    "    ,data_c['Adjusted savings: energy depletion (% of GNI)'][i]\n",
    "    ,data_c['Adjusted savings: gross savings (% of GNI)'][i]\n",
    "    ,data_c['Adjusted savings: mineral depletion (% of GNI)'][i]\n",
    "    ,data_c['Adjusted savings: natural resources depletion (% of GNI)'][i]\n",
    "    ,data_c['Adjusted savings: net forest depletion (% of GNI)'][i]\n",
    "    ,data_c['Adjusted savings: net national savings (% of GNI)'][i]\n",
    "    ,data_c['Adjusted savings: particulate emission damage (% of GNI)'][i]]\n",
    "    list_copy=list_.copy()\n",
    "    list_copy = [x for x in list_ if np.isnan(x) == False]\n",
    "    if(len(list_copy)==0):\n",
    "        data_c['Adjusted savings (% of GNI)'][i]=np.nan\n",
    "        continue\n",
    "    list_copy.sort(reverse=True)\n",
    "\n",
    "    if (list_copy[0]==list_[0]):\n",
    "        data_c['Adjusted savings (% of GNI)'][i]='carbon dioxide damage'\n",
    "    elif (list_copy[0]==list_[1]):\n",
    "        data_c['Adjusted savings (% of GNI)'][i]='consumption of fixed capital'\n",
    "    elif (list_copy[0]==list_[2]):\n",
    "        data_c['Adjusted savings (% of GNI)'][i]= 'education expenditure'\n",
    "    elif (list_copy[0]==list_[3]):\n",
    "        data_c['Adjusted savings (% of GNI)'][i]= 'energy depletion'\n",
    "    elif (list_copy[0]==list_[4]):\n",
    "        data_c['Adjusted savings (% of GNI)'][i]= 'gross savings'\n",
    "    elif (list_copy[0]==list_[5]):\n",
    "        data_c['Adjusted savings (% of GNI)'][i]= 'mineral depletion'\n",
    "    elif (list_copy[0]==list_[6]):\n",
    "        data_c['Adjusted savings (% of GNI)'][i]= 'natural resources depletion'\n",
    "    elif (list_copy[0]==list_[7]):\n",
    "        data_c['Adjusted savings (% of GNI)'][i]= 'net forest depletion'\n",
    "    elif (list_copy[0]==list_[9]):\n",
    "        data_c['Adjusted savings (% of GNI)'][i]= 'particulate emission damage'\n",
    "    elif (list_copy[0]==list_[8]):\n",
    "        data_c['Adjusted savings (% of GNI)'][i]= 'net national savings'\n",
    "\n",
    "data_c=data_c.drop(columns=['Adjusted savings: carbon dioxide damage (% of GNI)',\n",
    "'Adjusted savings: consumption of fixed capital (% of GNI)',\n",
    "'Adjusted savings: education expenditure (% of GNI)',\n",
    "'Adjusted savings: energy depletion (% of GNI)',\n",
    "'Adjusted savings: gross savings (% of GNI)',\n",
    "'Adjusted savings: mineral depletion (% of GNI)',\n",
    "'Adjusted savings: natural resources depletion (% of GNI)',\n",
    "'Adjusted savings: net forest depletion (% of GNI)',\n",
    "'Adjusted savings: net national savings (% of GNI)',\n",
    "'Adjusted savings: particulate emission damage (% of GNI)'])\n"
   ]
  },
  {
   "cell_type": "code",
   "execution_count": 143,
   "metadata": {},
   "outputs": [
    {
     "data": {
      "text/plain": [
       "['Time',\n",
       " 'Country Name',\n",
       " 'Population, total',\n",
       " 'Population density (people per sq. km of land area)',\n",
       " 'Land area (sq. km)',\n",
       " 'GDP growth (annual %)',\n",
       " 'Gross value added at basic prices (GVA) (current US$)',\n",
       " 'Employment to population ratio, 15+, total (%) (modeled ILO estimate)',\n",
       " 'Unemployment, total (% of total labor force) (modeled ILO estimate)',\n",
       " 'Labor force, total',\n",
       " 'Labor force participation rate, total (% of total population ages 15-64) (modeled ILO estimate)',\n",
       " 'Total natural resources rents (% of GDP)',\n",
       " 'Inflation, GDP deflator (annual %)',\n",
       " 'GNI (current US$)',\n",
       " 'GNI growth (annual %)',\n",
       " 'Consumer price index (2010 = 100)',\n",
       " 'Foreign direct investment, net (BoP, current US$)',\n",
       " 'Foreign direct investment, net inflows (% of GDP)',\n",
       " 'Foreign direct investment, net outflows (% of GDP)',\n",
       " 'Export value index (2000 = 100)',\n",
       " 'Exports of goods and services (% of GDP)',\n",
       " 'Import value index (2000 = 100)',\n",
       " 'Imports of goods and services (% of GDP)',\n",
       " 'Food production index (2014-2016 = 100)',\n",
       " 'Official exchange rate (LCU per US$, period average)',\n",
       " 'Total reserves (includes gold, current US$)',\n",
       " 'Net ODA received (% of GNI)',\n",
       " 'Net official development assistance received (current US$)',\n",
       " 'External debt stocks (% of GNI)',\n",
       " 'Total debt service (% of GNI)',\n",
       " 'Short-term debt (% of total external debt)',\n",
       " 'Trade (% of GDP)',\n",
       " 'Current account balance (BoP, current US$)',\n",
       " 'Current account balance (% of GDP)',\n",
       " 'Lending interest rate (%)',\n",
       " 'Deposit interest rate (%)',\n",
       " 'Region',\n",
       " 'Central government debt, total (% of GDP)',\n",
       " 'Central government debt, total (current LCU)',\n",
       " 'Merchandise exports (current US$)',\n",
       " 'Merchandise imports (current US$)',\n",
       " 'Service imports (BoP, current US$)',\n",
       " 'Service exports (BoP, current US$)',\n",
       " 'Commercial service exports (current US$)',\n",
       " 'Commercial service imports (current US$)',\n",
       " 'Stocks traded, total value (% of GDP)',\n",
       " 'Stocks traded, total value (current US$)',\n",
       " 'Broad money (% of GDP)',\n",
       " 'Broad money growth (annual %)',\n",
       " 'Broad money (current LCU)',\n",
       " 'Industry (including construction), value added (annual % growth)',\n",
       " 'Agriculture, forestry, and fishing, value added (annual % growth)',\n",
       " 'Services, value added (annual % growth)',\n",
       " 'Manufacturing, value added (annual % growth)',\n",
       " 'Documents',\n",
       " 'Citable documents',\n",
       " 'Citations',\n",
       " 'Self-citations',\n",
       " 'Citations per document',\n",
       " 'H index',\n",
       " 'Education Index',\n",
       " 'Expected Times of schooling (Times)',\n",
       " 'Government expenditure on education',\n",
       " 'Gross enrolment ratio, tertiary',\n",
       " 'Mean Times of schooling (Times)',\n",
       " 'HDI',\n",
       " 'Literacy rate, adult',\n",
       " 'Life expectancy index',\n",
       " 'Life expectancy at birth (Times)',\n",
       " 'Population Structure',\n",
       " 'Industry has the highest employment contribution rate',\n",
       " 'Highest GDP contribution industry rate',\n",
       " 'Population growth',\n",
       " 'Type has the highest manufacturing contribution rate',\n",
       " 'Type has the highest merchandise import contribution rate',\n",
       " 'Type has the highest merchandise export contribution rate',\n",
       " 'Type has the highest service export contribution rate',\n",
       " 'Type has the highest service import contribution rate',\n",
       " 'Type has the highest commercial service export contribution rate',\n",
       " 'Type has the highest commercial service import contribution rate',\n",
       " 'Adjusted savings (% of GNI)']"
      ]
     },
     "execution_count": 143,
     "metadata": {},
     "output_type": "execute_result"
    }
   ],
   "source": [
    "list(data_c.columns)"
   ]
  },
  {
   "cell_type": "code",
   "execution_count": 144,
   "metadata": {},
   "outputs": [],
   "source": [
    "data_c.replace(to_replace='nan',value=np.nan,inplace=True)"
   ]
  },
  {
   "cell_type": "code",
   "execution_count": 145,
   "metadata": {},
   "outputs": [],
   "source": [
    "attr=pd.read_csv(r'T:\\FilesHocTap\\DS105_final_project\\DS105.M11\\all new\\a.csv',header=None,sep='\\n')"
   ]
  },
  {
   "cell_type": "code",
   "execution_count": 146,
   "metadata": {},
   "outputs": [],
   "source": [
    "atr=list(attr[0])"
   ]
  },
  {
   "cell_type": "code",
   "execution_count": 147,
   "metadata": {},
   "outputs": [],
   "source": [
    "data_c=data_c[atr]"
   ]
  },
  {
   "cell_type": "code",
   "execution_count": 148,
   "metadata": {},
   "outputs": [],
   "source": [
    "data_c.to_csv('final_data.csv')"
   ]
  }
 ],
 "metadata": {
  "interpreter": {
   "hash": "dcacb0086e9a4f4eabd41c33bf4faac5ea0a3337ed3f5eff0680afa930572c04"
  },
  "kernelspec": {
   "display_name": "Python 3.9.0 64-bit",
   "name": "python3"
  },
  "language_info": {
   "codemirror_mode": {
    "name": "ipython",
    "version": 3
   },
   "file_extension": ".py",
   "mimetype": "text/x-python",
   "name": "python",
   "nbconvert_exporter": "python",
   "pygments_lexer": "ipython3",
   "version": "3.9.0"
  },
  "orig_nbformat": 4
 },
 "nbformat": 4,
 "nbformat_minor": 2
}
