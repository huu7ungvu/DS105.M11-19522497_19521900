{
 "cells": [
  {
   "cell_type": "markdown",
   "metadata": {},
   "source": [
    "### DS105.M11\n",
    "### Dataset: Countries of the World\n",
    "### Link tải: https://www.kaggle.com/fernandol/countries-of-the-world"
   ]
  },
  {
   "cell_type": "code",
   "execution_count": 1,
   "metadata": {},
   "outputs": [],
   "source": [
    "import pandas as pd\n",
    "import numpy as np "
   ]
  },
  {
   "cell_type": "code",
   "execution_count": 44,
   "metadata": {},
   "outputs": [],
   "source": [
    "# Lấy region\n",
    "country = pd.read_csv('raw-data/country_profile_variables.csv')"
   ]
  },
  {
   "cell_type": "code",
   "execution_count": 45,
   "metadata": {},
   "outputs": [],
   "source": [
    "# Data 1\n",
    "data_f = pd.read_csv('raw-data/a6eaaef3-b1f9-4e97-b5af-f6cd8e8f924e_Data.csv')"
   ]
  },
  {
   "cell_type": "code",
   "execution_count": 46,
   "metadata": {},
   "outputs": [],
   "source": [
    "# drop\n",
    "data_f=data_f.drop(['Time', 'Time Code', 'Country Code'],axis=1)"
   ]
  },
  {
   "cell_type": "code",
   "execution_count": 47,
   "metadata": {},
   "outputs": [],
   "source": [
    "# data thêm\n",
    "data_add = pd.read_csv('raw-data/Add.csv')"
   ]
  },
  {
   "cell_type": "code",
   "execution_count": 48,
   "metadata": {},
   "outputs": [],
   "source": [
    "data_add=data_add.drop(['Country Name',\t'Country Code'], axis=1)"
   ]
  },
  {
   "cell_type": "code",
   "execution_count": 49,
   "metadata": {},
   "outputs": [],
   "source": [
    "# Tạo cột mới\n",
    "data_f['Region']=pd.Series(np.random.randint(len(data_f.index)), index=data_f.index)"
   ]
  },
  {
   "cell_type": "code",
   "execution_count": 50,
   "metadata": {},
   "outputs": [
    {
     "name": "stderr",
     "output_type": "stream",
     "text": [
      "C:\\Users\\Admin\\AppData\\Local\\Temp/ipykernel_38012/2745899623.py:5: SettingWithCopyWarning: \n",
      "A value is trying to be set on a copy of a slice from a DataFrame\n",
      "\n",
      "See the caveats in the documentation: https://pandas.pydata.org/pandas-docs/stable/user_guide/indexing.html#returning-a-view-versus-a-copy\n",
      "  data_f['Region'][i]=country.iloc[j,1]\n"
     ]
    }
   ],
   "source": [
    "# Chỉnh các region\n",
    "for i in data_f.index:\n",
    "    for j in country.index:\n",
    "        if (data_f.iloc[i,0]==country.iloc[j,0]):\n",
    "            data_f['Region'][i]=country.iloc[j,1]"
   ]
  },
  {
   "cell_type": "code",
   "execution_count": 51,
   "metadata": {},
   "outputs": [],
   "source": [
    "# ghép 2 dataframe ban đầu chưa xử lý\n",
    "result = pd.concat([data_f, data_add], axis=1)"
   ]
  },
  {
   "cell_type": "code",
   "execution_count": 52,
   "metadata": {},
   "outputs": [],
   "source": [
    "result.to_csv('processing-data/result_ban_dau.csv')"
   ]
  },
  {
   "cell_type": "markdown",
   "metadata": {},
   "source": [
    "### Ta sẽ lấy file result này vào excel để chỉnh lại tên cho khớp với country data ở phía trên."
   ]
  },
  {
   "cell_type": "code",
   "execution_count": 53,
   "metadata": {},
   "outputs": [],
   "source": [
    "# đọc lại dữ liệu sau xử lý ở excel\n",
    "result_2 = pd.read_csv('processing-data/result.csv',sep=';')"
   ]
  },
  {
   "cell_type": "code",
   "execution_count": 54,
   "metadata": {},
   "outputs": [
    {
     "name": "stderr",
     "output_type": "stream",
     "text": [
      "C:\\Users\\Admin\\AppData\\Local\\Temp/ipykernel_38012/3347407281.py:5: SettingWithCopyWarning: \n",
      "A value is trying to be set on a copy of a slice from a DataFrame\n",
      "\n",
      "See the caveats in the documentation: https://pandas.pydata.org/pandas-docs/stable/user_guide/indexing.html#returning-a-view-versus-a-copy\n",
      "  result_2['Region'][i]=country.iloc[j,1]\n"
     ]
    }
   ],
   "source": [
    "# lấy region thêm 1 lần nữa từ country\n",
    "for i in result_2.index:\n",
    "    for j in country.index:\n",
    "        if (result_2.iloc[i,3]==country.iloc[j,0]):\n",
    "            result_2['Region'][i]=country.iloc[j,1]"
   ]
  },
  {
   "cell_type": "code",
   "execution_count": 55,
   "metadata": {},
   "outputs": [
    {
     "data": {
      "text/plain": [
       "Caribbean            20\n",
       "EasternAfrica        18\n",
       "WesternAsia          17\n",
       "WesternAfrica        16\n",
       "SouthernEurope       15\n",
       "NorthernEurope       13\n",
       "SouthAmerica         12\n",
       "South-easternAsia    11\n",
       "EasternEurope        10\n",
       "SouthernAsia          9\n",
       "MiddleAfrica          9\n",
       "WesternEurope         9\n",
       "CentralAmerica        8\n",
       "EasternAsia           7\n",
       "Micronesia            7\n",
       "NorthernAfrica        6\n",
       "NorthernAmerica       5\n",
       "Polynesia             5\n",
       "Melanesia             5\n",
       "CentralAsia           5\n",
       "SouthernAfrica        4\n",
       "127                   4\n",
       "Oceania               2\n",
       "Name: Region, dtype: int64"
      ]
     },
     "execution_count": 55,
     "metadata": {},
     "output_type": "execute_result"
    }
   ],
   "source": [
    "# Kiểm tra lại\n",
    "result_2['Region'].value_counts()"
   ]
  },
  {
   "cell_type": "code",
   "execution_count": 56,
   "metadata": {},
   "outputs": [],
   "source": [
    "# Lấy các nước mà ko có vùng\n",
    "arr=[]\n",
    "for i in result_2.index:\n",
    "    if (result_2['Region'][i]=='127'):\n",
    "        arr.append(result_2['Country Name'][i])"
   ]
  },
  {
   "cell_type": "code",
   "execution_count": 57,
   "metadata": {},
   "outputs": [
    {
     "name": "stderr",
     "output_type": "stream",
     "text": [
      "C:\\Users\\Admin\\AppData\\Local\\Temp/ipykernel_38012/2043064587.py:6: SettingWithCopyWarning: \n",
      "A value is trying to be set on a copy of a slice from a DataFrame\n",
      "\n",
      "See the caveats in the documentation: https://pandas.pydata.org/pandas-docs/stable/user_guide/indexing.html#returning-a-view-versus-a-copy\n",
      "  result_2['Region'][i]='Caribbean'\n",
      "C:\\Users\\Admin\\AppData\\Local\\Temp/ipykernel_38012/2043064587.py:8: SettingWithCopyWarning: \n",
      "A value is trying to be set on a copy of a slice from a DataFrame\n",
      "\n",
      "See the caveats in the documentation: https://pandas.pydata.org/pandas-docs/stable/user_guide/indexing.html#returning-a-view-versus-a-copy\n",
      "  result_2['Region'][i]='SouthernAfrica'\n",
      "C:\\Users\\Admin\\AppData\\Local\\Temp/ipykernel_38012/2043064587.py:10: SettingWithCopyWarning: \n",
      "A value is trying to be set on a copy of a slice from a DataFrame\n",
      "\n",
      "See the caveats in the documentation: https://pandas.pydata.org/pandas-docs/stable/user_guide/indexing.html#returning-a-view-versus-a-copy\n",
      "  result_2['Region'][i]='EasternEurope'\n",
      "C:\\Users\\Admin\\AppData\\Local\\Temp/ipykernel_38012/2043064587.py:4: SettingWithCopyWarning: \n",
      "A value is trying to be set on a copy of a slice from a DataFrame\n",
      "\n",
      "See the caveats in the documentation: https://pandas.pydata.org/pandas-docs/stable/user_guide/indexing.html#returning-a-view-versus-a-copy\n",
      "  result_2['Region'][i]='EasternAsia'\n"
     ]
    }
   ],
   "source": [
    "# Chỉnh tay\n",
    "for i in result_2.index:\n",
    "    if (result_2['Country Name'][i]=='West Bank and Gaza'):\n",
    "        result_2['Region'][i]='EasternAsia'\n",
    "    if (result_2['Country Name'][i]=='Curacao'):\n",
    "        result_2['Region'][i]='Caribbean'\n",
    "    if (result_2['Country Name'][i]=='Eswatini'):\n",
    "        result_2['Region'][i]='SouthernAfrica'\n",
    "    if (result_2['Country Name'][i]=='Kosovo'):\n",
    "        result_2['Region'][i]='EasternEurope'"
   ]
  },
  {
   "cell_type": "code",
   "execution_count": 58,
   "metadata": {},
   "outputs": [],
   "source": [
    "result_2=result_2[data_f.columns.values]"
   ]
  },
  {
   "cell_type": "code",
   "execution_count": 59,
   "metadata": {},
   "outputs": [],
   "source": [
    "result_2 = pd.concat([result_2, data_add], axis=1)"
   ]
  },
  {
   "cell_type": "code",
   "execution_count": 60,
   "metadata": {},
   "outputs": [],
   "source": [
    "arr = result_2.columns.values\n",
    "for i in range(len(arr)):\n",
    "    if '2019 [YR2019] - ' in arr[i] :\n",
    "        arr[i]=arr[i][16:]\n",
    "result_2.columns=arr"
   ]
  },
  {
   "cell_type": "code",
   "execution_count": 61,
   "metadata": {},
   "outputs": [],
   "source": [
    "result_2.replace(to_replace=['..'], value= np.nan, inplace=True)"
   ]
  },
  {
   "cell_type": "code",
   "execution_count": 62,
   "metadata": {},
   "outputs": [],
   "source": [
    "arr=[]\n",
    "for i in range(len(result_2.columns)):\n",
    "    if ((result_2.iloc[:,i].isnull().sum())>=55):\n",
    "        arr.append(i)\n",
    "columns_to_keep = [x for x in range(result_2.shape[1]) if x not in arr]\n",
    "result_2 = result_2.iloc[:,columns_to_keep]"
   ]
  },
  {
   "cell_type": "code",
   "execution_count": 63,
   "metadata": {},
   "outputs": [],
   "source": [
    "arr=[]\n",
    "for i in range(len(result_2.index)) :\n",
    "    if (result_2.iloc[i].isnull().sum()>=22):\n",
    "        arr.append(i)\n",
    "result_2=result_2.drop(arr)"
   ]
  },
  {
   "cell_type": "code",
   "execution_count": 64,
   "metadata": {},
   "outputs": [],
   "source": [
    "result_2=result_2.drop(['GDP (current US$) [NY.GDP.MKTP.CD]','GDP per capita growth (annual %) [NY.GDP.PCAP.KD.ZG]','GDP growth (annual %) [NY.GDP.MKTP.KD.ZG]'],axis=1)"
   ]
  },
  {
   "cell_type": "code",
   "execution_count": 65,
   "metadata": {},
   "outputs": [
    {
     "name": "stdout",
     "output_type": "stream",
     "text": [
      "<class 'pandas.core.frame.DataFrame'>\n",
      "Int64Index: 204 entries, 0 to 216\n",
      "Data columns (total 34 columns):\n",
      " #   Column                                                                                                            Non-Null Count  Dtype  \n",
      "---  ------                                                                                                            --------------  -----  \n",
      " 0   Country Name                                                                                                      204 non-null    object \n",
      " 1   Population, total [SP.POP.TOTL]                                                                                   204 non-null    object \n",
      " 2   Population, male (% of total population) [SP.POP.TOTL.MA.ZS]                                                      193 non-null    object \n",
      " 3   Population, female (% of total population) [SP.POP.TOTL.FE.ZS]                                                    193 non-null    object \n",
      " 4   Population growth (annual %) [SP.POP.GROW]                                                                        204 non-null    object \n",
      " 5   Population density (people per sq. km of land area) [EN.POP.DNST]                                                 203 non-null    object \n",
      " 6   Population ages 0-14 (% of total population) [SP.POP.0014.TO.ZS]                                                  193 non-null    object \n",
      " 7   Population ages 15-64 (% of total population) [SP.POP.1564.TO.ZS]                                                 193 non-null    object \n",
      " 8   Population ages 65 and above (% of total population) [SP.POP.65UP.TO.ZS]                                          193 non-null    object \n",
      " 9   Land area (sq. km) [AG.LND.TOTL.K2]                                                                               203 non-null    object \n",
      " 10  GDP per capita (current US$) [NY.GDP.PCAP.CD]                                                                     194 non-null    object \n",
      " 11  Agriculture, forestry, and fishing, value added (% of GDP) [NV.AGR.TOTL.ZS]                                       174 non-null    object \n",
      " 12  Industry (including construction), value added (% of GDP) [NV.IND.TOTL.ZS]                                        175 non-null    object \n",
      " 13  Services, value added (% of GDP) [NV.SRV.TOTL.ZS]                                                                 175 non-null    object \n",
      " 14  Gross value added at basic prices (GVA) (current US$) [NY.GDP.FCST.CD]                                            167 non-null    object \n",
      " 15  Employers, total (% of total employment) (modeled ILO estimate) [SL.EMP.MPYR.ZS]                                  186 non-null    object \n",
      " 16  Employment in agriculture (% of total employment) (modeled ILO estimate) [SL.AGR.EMPL.ZS]                         186 non-null    object \n",
      " 17  Employment in industry (% of total employment) (modeled ILO estimate) [SL.IND.EMPL.ZS]                            186 non-null    object \n",
      " 18  Employment in services (% of total employment) (modeled ILO estimate) [SL.SRV.EMPL.ZS]                            186 non-null    object \n",
      " 19  Employment to population ratio, 15+, total (%) (modeled ILO estimate) [SL.EMP.TOTL.SP.ZS]                         186 non-null    object \n",
      " 20  Unemployment, total (% of total labor force) (modeled ILO estimate) [SL.UEM.TOTL.ZS]                              186 non-null    object \n",
      " 21  Labor force, total [SL.TLF.TOTL.IN]                                                                               186 non-null    object \n",
      " 22  Labor force participation rate, total (% of total population ages 15-64) (modeled ILO estimate) [SL.TLF.ACTI.ZS]  186 non-null    object \n",
      " 23  Total natural resources rents (% of GDP) [NY.GDP.TOTL.RT.ZS]                                                      185 non-null    object \n",
      " 24  Inflation, consumer prices (annual %) [FP.CPI.TOTL.ZG]                                                            168 non-null    object \n",
      " 25  Inflation, GDP deflator (annual %) [NY.GDP.DEFL.KD.ZG]                                                            193 non-null    object \n",
      " 26  Inflation, GDP deflator: linked series (annual %) [NY.GDP.DEFL.KD.ZG.AD]                                          193 non-null    object \n",
      " 27  GNI (current US$) [NY.GNP.MKTP.CD]                                                                                190 non-null    object \n",
      " 28  Foreign direct investment, net inflows (BoP, current US$) [BX.KLT.DINV.CD.WD]                                     193 non-null    object \n",
      " 29  Consumer price index (2010 = 100) [FP.CPI.TOTL]                                                                   169 non-null    object \n",
      " 30  Export value index (2000 = 100) [TX.VAL.MRCH.XD.WD]                                                               196 non-null    object \n",
      " 31  Import value index (2000 = 100) [TM.VAL.MRCH.XD.WD]                                                               196 non-null    object \n",
      " 32  Region                                                                                                            204 non-null    object \n",
      " 33  Trade (% of GDP) [NE.TRD.GNFS.ZS]                                                                                 173 non-null    float64\n",
      "dtypes: float64(1), object(33)\n",
      "memory usage: 55.8+ KB\n"
     ]
    }
   ],
   "source": [
    "result_2.info()"
   ]
  },
  {
   "cell_type": "code",
   "execution_count": 66,
   "metadata": {},
   "outputs": [],
   "source": [
    "result_2.to_csv('tidy-data/world_bank_data_country.csv',index=False)"
   ]
  }
 ],
 "metadata": {
  "interpreter": {
   "hash": "dcacb0086e9a4f4eabd41c33bf4faac5ea0a3337ed3f5eff0680afa930572c04"
  },
  "kernelspec": {
   "display_name": "Python 3.9.0 64-bit",
   "name": "python3"
  },
  "language_info": {
   "codemirror_mode": {
    "name": "ipython",
    "version": 3
   },
   "file_extension": ".py",
   "mimetype": "text/x-python",
   "name": "python",
   "nbconvert_exporter": "python",
   "pygments_lexer": "ipython3",
   "version": "3.9.0"
  },
  "orig_nbformat": 4
 },
 "nbformat": 4,
 "nbformat_minor": 2
}
